{
 "cells": [
  {
   "cell_type": "code",
   "execution_count": 1,
   "metadata": {},
   "outputs": [
    {
     "data": {
      "text/plain": [
       "[23.0, 21.0]"
      ]
     },
     "execution_count": 1,
     "metadata": {},
     "output_type": "execute_result"
    }
   ],
   "source": [
    "def user_points(prompt):    \n",
    "    try:\n",
    "        user_points = (input(prompt))\n",
    "        user_points = [float(i) for i in user_points.split()]\n",
    "        for user in user_points:\n",
    "            if user < 0: \n",
    "                    raise ValueError(\"value must be greater than 0\")\n",
    "    except ValueError as err:\n",
    "        print(err)\n",
    "    return user_points\n",
    "user_points(\"Input your coordinates\")"
   ]
  },
  {
   "cell_type": "code",
   "execution_count": null,
   "metadata": {},
   "outputs": [],
   "source": [
    "def storage_function(height, width):\n",
    "    dimension = {\n",
    "        \"height\": height,\n",
    "        \"width\": width\n",
    "    }\n",
    "    return dimension"
   ]
  },
  {
   "cell_type": "code",
   "execution_count": null,
   "metadata": {},
   "outputs": [],
   "source": [
    "import re\n",
    "import numpy as np\n",
    "\n",
    "def sort_to_documents():\n",
    "    with open(\"../Data/datapoints.txt\", \"r\") as f_points:\n",
    "        points = [point.strip(\"\\n\") for point in f_points.readlines()]\n",
    "\n",
    "    points.pop(0)\n",
    "\n",
    "    datapoints = [data.split(\",\") for data in points]\n",
    "    pichu_list = []\n",
    "    pika_list = []\n",
    "\n",
    "    for datapoint in datapoints:\n",
    "        datapoint = [i.strip() for i in datapoint]\n",
    "        if datapoint[2] == \"1\":\n",
    "            pichu_list.append(datapoint)\n",
    "        if datapoint[2] == \"0\":\n",
    "            pika_list.append(datapoint)\n",
    "\n",
    "    with open(\"../Data/pichu.txt\", \"w\") as f_pichu:\n",
    "        for i in range(len(pichu_list)):\n",
    "                #f_pichu.write(f\"{i + 1}. Height: {pichu_list[i][0]}, Width: {pichu_list[i][1]}\\n\")\n",
    "                 f_pichu.write(f\"{storage_function(pichu_list[i][0], pichu_list[i][1])}\\n\")\n",
    "    with open(\"../Data/pikachu.txt\", \"w\") as f_pika:\n",
    "        for i in range(len(pika_list)):\n",
    "                f_pika.write(f\"{storage_function(pika_list[i][0], pika_list[i][1])}\\n\")\n",
    "\n",
    "\n",
    "sort_to_documents()"
   ]
  },
  {
   "cell_type": "code",
   "execution_count": null,
   "metadata": {},
   "outputs": [],
   "source": [
    "from turtle import color, width\n",
    "import matplotlib.pyplot as plt\n",
    "import numpy as np\n",
    "import ast\n",
    "import math\n",
    "\n",
    "def test_pichu_or_pikachu():\n",
    "    smaple1 = [25, 32]\n",
    "    sample2 = [24.2, 31, 5]\n",
    "\n",
    "    pikachu_sample_list = [[25, 32], [24.2, 31.5], [22, 34]]\n",
    "    pichu_sample_list = [20.5, 34]\n",
    "\n",
    "    data_pika = np.array([pikachu_sample_list])\n",
    "    x, y = data_pika.T\n",
    "    plt.scatter(x, y)\n",
    "\n",
    "    data_pichu = np.array([pichu_sample_list])\n",
    "    x, y = data_pichu.T\n",
    "    plt.scatter(x, y)\n",
    "\n",
    "    with open(\"../Data/pichu.txt\", \"r\") as f_pichu_list:\n",
    "        pichu_data_list = f_pichu_list.readlines()\n",
    "        pichu_data_list = [data.strip(\"\\n\") for data in pichu_data_list]\n",
    "\n",
    "    pichu_data_list = [ast.literal_eval(item) for item in pichu_data_list]\n",
    "    \n",
    "    for item in pichu_data_list:\n",
    "        plt.scatter(x=[item[\"height\"] for x in pichu_data_list], y=[item[\"width\"] for y in pichu_data_list], color=\"#FF0000\" )\n",
    "\n",
    "    with open(\"../Data/pikachu.txt\", \"r\") as f_pikachu_list:\n",
    "        pikachu_data_list = f_pikachu_list.readlines()\n",
    "        pikachu_data_list = [data.strip(\"\\n\") for data in pikachu_data_list]\n",
    "\n",
    "    pikachu_data_list = [ast.literal_eval(item) for item in pikachu_data_list]\n",
    "\n",
    "    for item in pikachu_data_list:\n",
    "        plt.scatter(x=[item[\"height\"] for x in pikachu_data_list], y=[item[\"width\"] for y in pikachu_data_list] , color=\"#15B01A\")\n",
    "\n",
    "    user_points_ = user_points(\"Input your coordinates\")\n",
    "\n",
    "    user_ = np.array([user_points_])\n",
    "    x, y = user_.T\n",
    "    plt.scatter(x,y,color=\"purple\")\n",
    "\n",
    "    #√[(x₂ - x₁)² + (y₂ - y₁)²]\n",
    "    distance_1 = 0\n",
    "    distance_2 = 0\n",
    "    pika_point_distance_list = []\n",
    "\n",
    "    list_points = {}\n",
    "    for item in pikachu_sample_list:\n",
    "        distance_1 = math.sqrt(((user_points_[0]) - float(item[0]))**2 + (user_points_[1] - item[1])**2)\n",
    "        pika_point_distance_list.append(distance_1)\n",
    "        print(f\"Distance to closest pikachu point: {distance_1} cm\")\n",
    "    print(pika_point_distance_list)\n",
    "    distance_2 = math.sqrt((user_points_[0] - pichu_sample_list[0])**2 + (user_points_[1] - pichu_sample_list[1])**2)\n",
    "    print(f\"Distance to closest pichu point: {distance_2} cm\")\n",
    "\n",
    "    for item in pika_point_distance_list:\n",
    "        if distance_2 < item:\n",
    "            print(\"Your entry is a Pichu\")\n",
    "            break\n",
    "        else:\n",
    "            print(\"Your entry is a Pikachu\")\n",
    "\n",
    "    return \n",
    "\n",
    "\n",
    "test_pichu_or_pikachu()"
   ]
  }
 ],
 "metadata": {
  "kernelspec": {
   "display_name": "Python 3.9.13 ('python-programming-CYRILLE-NGIDE-8lYZxi0s')",
   "language": "python",
   "name": "python3"
  },
  "language_info": {
   "codemirror_mode": {
    "name": "ipython",
    "version": 3
   },
   "file_extension": ".py",
   "mimetype": "text/x-python",
   "name": "python",
   "nbconvert_exporter": "python",
   "pygments_lexer": "ipython3",
   "version": "3.9.13"
  },
  "orig_nbformat": 4,
  "vscode": {
   "interpreter": {
    "hash": "dd247279cb5a2223fd23417ef4ee3ca82dcfbfedfd031578b30353f77bfa8fd6"
   }
  }
 },
 "nbformat": 4,
 "nbformat_minor": 2
}
