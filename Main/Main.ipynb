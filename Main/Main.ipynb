{
 "cells": [
  {
   "cell_type": "code",
   "execution_count": 1,
   "metadata": {},
   "outputs": [
    {
     "data": {
      "text/plain": [
       "[23.0, 21.0]"
      ]
     },
     "execution_count": 1,
     "metadata": {},
     "output_type": "execute_result"
    }
   ],
   "source": [
    "def user_points(prompt):    \n",
    "    try:\n",
    "        user_points = (input(prompt))\n",
    "        user_points = [float(i) for i in user_points.split()]\n",
    "        for user in user_points:\n",
    "            if user < 0: \n",
    "                    raise ValueError(\"value must be greater than 0\")\n",
    "    except ValueError as err:\n",
    "        print(err)\n",
    "    return user_points\n",
    "user_points(\"Input your coordinates\")"
   ]
  },
  {
   "cell_type": "code",
   "execution_count": null,
   "metadata": {},
   "outputs": [],
   "source": [
    "def storage_function(height, width):\n",
    "    dimension = {\n",
    "        \"height\": height,\n",
    "        \"width\": width\n",
    "    }\n",
    "    return dimension"
   ]
  },
  {
   "cell_type": "code",
   "execution_count": null,
   "metadata": {},
   "outputs": [],
   "source": [
    "import re\n",
    "import numpy as np\n",
    "\n",
    "def sort_to_documents():\n",
    "    with open(\"../Data/datapoints.txt\", \"r\") as f_points:\n",
    "        points = [point.strip(\"\\n\") for point in f_points.readlines()]\n",
    "\n",
    "    points.pop(0)\n",
    "\n",
    "    datapoints = [data.split(\",\") for data in points]\n",
    "    pichu_list = []\n",
    "    pika_list = []\n",
    "\n",
    "    for datapoint in datapoints:\n",
    "        datapoint = [i.strip() for i in datapoint]\n",
    "        if datapoint[2] == \"1\":\n",
    "            pichu_list.append(datapoint)\n",
    "        if datapoint[2] == \"0\":\n",
    "            pika_list.append(datapoint)\n",
    "\n",
    "    with open(\"../Data/pichu.txt\", \"w\") as f_pichu:\n",
    "        for i in range(len(pichu_list)):\n",
    "                #f_pichu.write(f\"{i + 1}. Height: {pichu_list[i][0]}, Width: {pichu_list[i][1]}\\n\")\n",
    "                 f_pichu.write(f\"{storage_function(pichu_list[i][0], pichu_list[i][1])}\\n\")\n",
    "    with open(\"../Data/pikachu.txt\", \"w\") as f_pika:\n",
    "        for i in range(len(pika_list)):\n",
    "                f_pika.write(f\"{storage_function(pika_list[i][0], pika_list[i][1])}\\n\")\n",
    "\n",
    "\n",
    "sort_to_documents()"
   ]
  }
 ],
 "metadata": {
  "kernelspec": {
   "display_name": "Python 3.9.13 ('python-programming-CYRILLE-NGIDE-8lYZxi0s')",
   "language": "python",
   "name": "python3"
  },
  "language_info": {
   "codemirror_mode": {
    "name": "ipython",
    "version": 3
   },
   "file_extension": ".py",
   "mimetype": "text/x-python",
   "name": "python",
   "nbconvert_exporter": "python",
   "pygments_lexer": "ipython3",
   "version": "3.9.13"
  },
  "orig_nbformat": 4,
  "vscode": {
   "interpreter": {
    "hash": "dd247279cb5a2223fd23417ef4ee3ca82dcfbfedfd031578b30353f77bfa8fd6"
   }
  }
 },
 "nbformat": 4,
 "nbformat_minor": 2
}
