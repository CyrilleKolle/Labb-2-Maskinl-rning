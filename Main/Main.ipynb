{
 "cells": [
  {
   "cell_type": "markdown",
   "metadata": {},
   "source": [
    "### Clean User input to list"
   ]
  },
  {
   "cell_type": "code",
   "execution_count": 61,
   "metadata": {},
   "outputs": [
    {
     "data": {
      "text/plain": [
       "[[23.0, 21.0]]"
      ]
     },
     "execution_count": 61,
     "metadata": {},
     "output_type": "execute_result"
    }
   ],
   "source": [
    "def user_points(prompt):    \n",
    "    while True:\n",
    "\n",
    "        try:\n",
    "            user_points = (input(prompt))\n",
    "            user_points = [float(i) for i in user_points.split()]\n",
    "\n",
    "            for user in user_points:\n",
    "                if user < 0: \n",
    "                    raise ValueError(\"value must be greater than 0\")\n",
    "            break\n",
    "        except ValueError as err:\n",
    "            print(err)\n",
    "    \n",
    "    \n",
    "    return [user_points]\n",
    "user_points(\"Input your coordinates\")"
   ]
  },
  {
   "cell_type": "markdown",
   "metadata": {},
   "source": [
    "### Sort training data to Pichu and Pikachu documents"
   ]
  },
  {
   "cell_type": "code",
   "execution_count": 62,
   "metadata": {},
   "outputs": [],
   "source": [
    "def sort_points_to_documents():\n",
    "    with open(\"../Data/datapoints.txt\", \"r\") as f_points:\n",
    "        points = [point.strip(\"\\n\") for point in f_points.readlines()]\n",
    "\n",
    "    points.pop(0)\n",
    "\n",
    "    datapoints = [data.split(\",\") for data in points]\n",
    "    pichu_list = []\n",
    "    pika_list = []\n",
    "\n",
    "    for datapoint in datapoints:\n",
    "        datapoint = [i.strip() for i in datapoint]\n",
    "        if datapoint[2] == \"0\":\n",
    "            pichu_list.append(datapoint)\n",
    "        if datapoint[2] == \"1\":\n",
    "            pika_list.append(datapoint)\n",
    "\n",
    "    with open(\"../Data/pichu.txt\", \"w\") as f_pichu:\n",
    "        for item in pichu_list:\n",
    "            f_pichu.write(f\"{item}\\n\")\n",
    "    with open(\"../Data/pikachu.txt\", \"w\") as f_pika:\n",
    "        for item in pika_list:\n",
    "            f_pika.write(f\"{item}\\n\")\n",
    "\n",
    "\n",
    "sort_points_to_documents()"
   ]
  },
  {
   "cell_type": "markdown",
   "metadata": {},
   "source": [
    "### Clean up testpoints to usable data"
   ]
  },
  {
   "cell_type": "code",
   "execution_count": 63,
   "metadata": {},
   "outputs": [],
   "source": [
    "def test_points_cleanup():\n",
    "    with open(\"../Data/testpoints.txt\", \"r\") as f_test_points:\n",
    "        test_points_w =  f_test_points.readlines()\n",
    "\n",
    "    test_points_w = test_points_w[1:]\n",
    "    test_points_w = [line[4:-2] for line in test_points_w]\n",
    "    test_points_w = [line.split(\",\") for line in test_points_w]\n",
    "    test_points_w = [[float(a) for a in b] for b in test_points_w]\n",
    "    return test_points_w"
   ]
  },
  {
   "cell_type": "markdown",
   "metadata": {},
   "source": [
    "### Create algorithm to return a pichu or pikachu"
   ]
  },
  {
   "cell_type": "code",
   "execution_count": 64,
   "metadata": {},
   "outputs": [],
   "source": [
    "from turtle import color\n",
    "import matplotlib.pyplot as plt\n",
    "import numpy as np\n",
    "import ast\n",
    "import math\n",
    "\n",
    "def pichu_or_pikachu(data = []):\n",
    "    \n",
    "    pichu_height_list = []\n",
    "    pichu_width_list = []\n",
    "    pikachu_height_list = []\n",
    "    pikachu_width_list = []\n",
    "\n",
    "    result = \"\"\n",
    "\n",
    "    with open(\"../Data/pichu.txt\", \"r\") as f_pichu_list:\n",
    "        pichu_data_list = [ast.literal_eval(pichu) for pichu in f_pichu_list.readlines()]\n",
    "       \n",
    "    for item in pichu_data_list:\n",
    "        pichu_height_list.append(float(item[0]))\n",
    "        pichu_width_list.append(float(item[1]))\n",
    "\n",
    "    with open(\"../Data/pikachu.txt\", \"r\") as f_pikachu_list:\n",
    "        pikachu_data_list = [ast.literal_eval(pika) for pika in f_pikachu_list.readlines()]\n",
    "\n",
    "    for item in pikachu_data_list:\n",
    "        pikachu_height_list.append(float(item[0]))\n",
    "        pikachu_width_list.append(float(item[1]))\n",
    "\n",
    "    diffrence = []\n",
    "    pika_points_distance_list = []\n",
    "    pichu_points_distance_list = []\n",
    "    pichu_sample_list = []\n",
    "    pika_sample_list = []\n",
    "\n",
    "\n",
    "    for sample in data:\n",
    "        min_distance = min((sample[0] - float(point[0]))**2 +(sample[1] - float(point[1]))**2 for point in pikachu_data_list)\n",
    "        pika_points_distance_list.append(np.sqrt(min_distance))\n",
    "\n",
    "    \n",
    "    for sample in data:\n",
    "        min_distance = min((sample[0] - float(point[0]))**2 +(sample[1] - float(point[1]))**2 for point in pichu_data_list)\n",
    "        pichu_points_distance_list.append(np.sqrt(min_distance))\n",
    "\n",
    "\n",
    "  \n",
    "    a = [x1 - x2 for (x1, x2) in zip(pichu_points_distance_list, pika_points_distance_list)]\n",
    "\n",
    "    zip_obj = zip(pichu_points_distance_list, pika_points_distance_list)\n",
    "    for i in range(len(data)):\n",
    "        for pichu, pika in zip_obj:\n",
    "            if pichu - pika < 0 :\n",
    "                pichu_sample_list.append(data[i])\n",
    "                result = f\"classified as Pichu\"\n",
    "                break\n",
    "            else:\n",
    "                pika_sample_list.append(data[i])\n",
    "                result = f\"classified as Pikachu\"\n",
    "                break\n",
    "        diffrence.append([data[i], pichu - pika, result])\n",
    "\n",
    "    print(*diffrence, sep=\"\\n\")\n",
    "\n",
    "\n",
    "    pika_sample_height = [i[0] for i in pika_sample_list]\n",
    "    pika_sample_width = [i[1] for i in pika_sample_list]\n",
    "    pichu_sample_height = [i[0] for i in pichu_sample_list]\n",
    "    pichu_sample_width = [i[1] for i in pichu_sample_list]\n",
    "\n",
    "\n",
    "    plt.plot(pichu_sample_height, pichu_sample_width, \"o\", label=\"Pichu Sample\")\n",
    "    plt.plot(pichu_height_list, pichu_width_list, \"1\")\n",
    "    plt.plot(pikachu_height_list, pikachu_width_list, \"2\")\n",
    "    plt.plot(pika_sample_height, pika_sample_width, \"*\")\n",
    "    plt.title(f\"You entry is a: {result}\")\n",
    "    plt.xlabel(\"Width\")\n",
    "    plt.ylabel(\"Height\")   \n",
    "    plt.legend([\"Pichu Test\", \"Pichu Actual\", \"Pikachu Actual\", \"Pika Test\"])\n",
    " \n",
    "    "
   ]
  },
  {
   "cell_type": "code",
   "execution_count": 65,
   "metadata": {},
   "outputs": [
    {
     "name": "stdout",
     "output_type": "stream",
     "text": [
      "[[32.0, 12.0], -0.6093767825405969, 'classified as Pichu']\n"
     ]
    },
    {
     "data": {
      "image/png": "[encoded data removed]",
      "text/plain": [
       "<Figure size 640x480 with 1 Axes>"
      ]
     },
     "metadata": {},
     "output_type": "display_data"
    }
   ],
   "source": [
    "#sample_list = test_points_cleanup()\n",
    "user_input = user_points(\"Input points\")\n",
    "pichu_or_pikachu(user_input)\n"
   ]
  },
  {
   "cell_type": "markdown",
   "metadata": {},
   "source": [
    "### Votes for a point with little margin to pichu or pikachu"
   ]
  },
  {
   "cell_type": "code",
   "execution_count": 69,
   "metadata": {},
   "outputs": [
    {
     "data": {
      "text/plain": [
       "'Points with height: 23.0 and width: 43.0 is classified as a pikachu with 10 votes'"
      ]
     },
     "execution_count": 69,
     "metadata": {},
     "output_type": "execute_result"
    }
   ],
   "source": [
    "from operator import itemgetter\n",
    "def election_day():\n",
    "    with open(\"../Data/datapoints.txt\", \"r\") as f_data:\n",
    "        points = [point.strip(\"\\n\") for point in f_data.readlines()]\n",
    "        points.pop(0)\n",
    "        points = [data.split(\",\") for data in points]\n",
    "\n",
    "    user_input = user_points(\"Input your coordinates\")\n",
    "    distance_points_list = []\n",
    "    pichu_votes = 0\n",
    "    pikachu_votes = 0\n",
    "    for item in points:\n",
    "        distance = math.sqrt(((user_input[0][0]) - float(item[0]))**2 + ((user_input[0][1]) - float(item[1]))**2)\n",
    "        distance_points_list.append([distance, item[2]])\n",
    "\n",
    "    distance_points_list = sorted(distance_points_list, key=itemgetter(0))\n",
    "    distance_points_list = distance_points_list[:10]\n",
    "\n",
    "    winner = \"\"\n",
    "    for item in distance_points_list:\n",
    "        if float(item[1]) == 1:\n",
    "            pikachu_votes += 1\n",
    "            winner = f\"Points with height: {user_input[0][0]} and width: {user_input[0][1]} is classified as a pikachu with {pikachu_votes} votes\"\n",
    "        else:\n",
    "            pichu_votes += 1\n",
    "            winner = f\"Points with height: {user_input[0][0]} and width: {user_input[0][1]} is classified as {pichu_votes} votes\"\n",
    "    return winner\n",
    "\n",
    "election_day()"
   ]
  },
  {
   "cell_type": "code",
   "execution_count": 71,
   "metadata": {},
   "outputs": [],
   "source": [
    "from re import I\n",
    "import numpy as np\n",
    "def random_collection():\n",
    "    with open(\"../Data/datapoints.txt\", \"r\") as f_data:\n",
    "        points = [point.strip(\"\\n\") for point in f_data.readlines()]\n",
    "        points.pop(0)\n",
    "        points = [data.split(\",\") for data in points]\n",
    "\n",
    "\n",
    "\n",
    "    Pichu_sorted_list = list(filter(lambda x: float(x[-1]) == 0, points))\n",
    "    Pikachu_sorted_list = list(filter(lambda x: float(x[-1]) == 1, points))\n",
    "\n",
    "\n",
    "    #50 random pichu \n",
    "    random_pichu_indices = np.random.choice(len(Pichu_sorted_list), 50)\n",
    "    random_pichu_list = [Pichu_sorted_list[i] for i in random_pichu_indices]\n",
    "\n",
    "    #50 random pikachu\n",
    "    random_pikachu_indices = np.random.choice(len(Pikachu_sorted_list), 50)\n",
    "    random_pikachu_list = [Pikachu_sorted_list[i] for i in random_pichu_indices]\n",
    "\n",
    "    #25 random pichu\n",
    "    random_pichu_test_indices = np.random.choice(len(Pichu_sorted_list), 25)\n",
    "    random_pichu_test_data = [Pichu_sorted_list[i] for i in random_pichu_test_indices]\n",
    "\n",
    "    \n",
    "    #25 random pikachu\n",
    "    random_pikachu_test_indices = np.random.choice(len(Pikachu_sorted_list), 25)\n",
    "    random_pikachu_test_data = [Pikachu_sorted_list[i] for i in random_pikachu_test_indices]\n",
    "\n",
    "\n",
    "    random_pichu_list.extend(random_pikachu_list)\n",
    "    training_data = random_pichu_list\n",
    "\n",
    "    random_pichu_test_data.extend(random_pikachu_test_data)\n",
    "    random_test_data = random_pichu_test_data\n",
    "\n",
    "\n",
    "    dis_list = []\n",
    "\n",
    "\n",
    "    for t in range(len(training_data)):\n",
    "        for test in random_test_data:\n",
    "          distance_1 = math.sqrt((float(training_data[t][0]) - float(test[0]))**2 + (float(training_data[t][1]) - float(test[1]))**2)\n",
    "        \n",
    "        \n",
    "        dis_list.extend([distance_1, training_data[t], test])\n",
    "\n",
    "\n",
    "\n",
    "\n",
    "\n",
    "    pichu_training_list = []\n",
    "    pikachu_training_list = []\n",
    "    pichu_test_list = []\n",
    "    pikachu_test_list = []\n",
    "\n",
    "\n",
    "\n",
    "\n",
    "\n",
    "    # for item in random_pichu_list:\n",
    "    #     distance_1 = math.sqrt(((user_input[0]) - float(item[0]))**2 + (user_input[1] - float(item[1]))**2)\n",
    "    #     pichu_training_list.append(distance_1)\n",
    "\n",
    "    # pichu_training_list.sort()\n",
    "\n",
    "    # for item in random_pikachu_list:\n",
    "    #     distance_2 = math.sqrt(((user_input[0]) - float(item[0]))**2 + (user_input[1] - float(item[1]))**2)\n",
    "    #     pikachu_training_list.append(distance_2)\n",
    "    \n",
    "    # pikachu_training_list.sort()\n",
    "\n",
    "    # true_positive = 0\n",
    "    # false_positive = 0\n",
    "    # true_negative = 0\n",
    "    # false_negative = 0\n",
    "\n",
    "    # if pikachu_training_list[0] > pichu_training_list[0]:\n",
    "    #     true_positive += 1\n",
    "    # else:\n",
    "    #     false_positive += 1\n",
    "\n",
    "    # for item in random_pikachu_test_data:\n",
    "    #     distance_3 = math.sqrt(((user_input[0]) - float(item[0]))**2 + (user_input[1] - float(item[1]))**2)\n",
    "    #     pikachu_test_list.append(distance_2)\n",
    "    \n",
    "    # for item in random_pichu_test_data:\n",
    "    #     distance_3 = math.sqrt(((user_input[0]) - float(item[0]))**2 + (user_input[1] - float(item[1]))**2)\n",
    "    #     pichu_test_list.append(distance_2)\n",
    "\n",
    "    # if random_pikachu_test_data[0] < random_pichu_test_data[0]:\n",
    "    #     false_negative += 1\n",
    "    # else:\n",
    "    #     true_negative += 1\n",
    "\n",
    "  \n",
    "\n",
    "    \n",
    "    return\n",
    "\n",
    "random_collection()"
   ]
  },
  {
   "cell_type": "code",
   "execution_count": null,
   "metadata": {},
   "outputs": [],
   "source": []
  }
 ],
 "metadata": {
  "kernelspec": {
   "display_name": "Python 3.9.13 ('python-programming-CYRILLE-NGIDE-8lYZxi0s')",
   "language": "python",
   "name": "python3"
  },
  "language_info": {
   "codemirror_mode": {
    "name": "ipython",
    "version": 3
   },
   "file_extension": ".py",
   "mimetype": "text/x-python",
   "name": "python",
   "nbconvert_exporter": "python",
   "pygments_lexer": "ipython3",
   "version": "3.9.13"
  },
  "orig_nbformat": 4,
  "vscode": {
   "interpreter": {
    "hash": "dd247279cb5a2223fd23417ef4ee3ca82dcfbfedfd031578b30353f77bfa8fd6"
   }
  }
 },
 "nbformat": 4,
 "nbformat_minor": 2
}
