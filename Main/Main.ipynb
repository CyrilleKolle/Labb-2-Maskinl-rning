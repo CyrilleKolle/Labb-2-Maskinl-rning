{
 "cells": [
  {
   "cell_type": "markdown",
   "metadata": {},
   "source": [
    "### Clean User input to list"
   ]
  },
  {
   "cell_type": "code",
   "execution_count": 91,
   "metadata": {},
   "outputs": [
    {
     "name": "stdout",
     "output_type": "stream",
     "text": [
      "could not convert string to float: 'we'\n",
      "could not convert string to float: 'we'\n",
      "value must be greater than 0\n",
      "could not convert string to float: 'sa'\n",
      "could not convert string to float: 'sa'\n"
     ]
    },
    {
     "data": {
      "text/plain": [
       "[[12.0, 32.0]]"
      ]
     },
     "execution_count": 91,
     "metadata": {},
     "output_type": "execute_result"
    }
   ],
   "source": [
    "def user_points(prompt):  \n",
    "    #Loop through the prompt to check if user input is a float or can be converted to a float  \n",
    "    while True:\n",
    "        try:\n",
    "            user_points = (input(prompt))\n",
    "            user_points = [float(i) for i in user_points.split()]\n",
    "\n",
    "            for user in user_points:\n",
    "                if user < 0: \n",
    "                    raise ValueError(\"value must be greater than 0\")\n",
    "            break\n",
    "        except ValueError as err:\n",
    "            print(err)\n",
    "\n",
    "    return [user_points]\n",
    "user_points(\"Input your coordinates seperated by a space\")"
   ]
  },
  {
   "cell_type": "markdown",
   "metadata": {},
   "source": [
    "### Sort training data to Pichu and Pikachu documents"
   ]
  },
  {
   "cell_type": "code",
   "execution_count": 62,
   "metadata": {},
   "outputs": [],
   "source": [
    "def sort_points_to_documents():\n",
    "    \n",
    "    with open(\"../Data/datapoints.txt\", \"r\") as f_points:\n",
    "        points = [point.strip(\"\\n\") for point in f_points.readlines()]\n",
    "\n",
    "    points.pop(0)\n",
    "\n",
    "    datapoints = [data.split(\",\") for data in points]\n",
    "    pichu_list = []\n",
    "    pika_list = []\n",
    "\n",
    "    for datapoint in datapoints:\n",
    "        datapoint = [i.strip() for i in datapoint]\n",
    "        if datapoint[2] == \"0\":\n",
    "            pichu_list.append(datapoint)\n",
    "        if datapoint[2] == \"1\":\n",
    "            pika_list.append(datapoint)\n",
    "\n",
    "    with open(\"../Data/pichu.txt\", \"w\") as f_pichu:\n",
    "        for item in pichu_list:\n",
    "            f_pichu.write(f\"{item}\\n\")\n",
    "    with open(\"../Data/pikachu.txt\", \"w\") as f_pika:\n",
    "        for item in pika_list:\n",
    "            f_pika.write(f\"{item}\\n\")\n",
    "\n",
    "\n",
    "sort_points_to_documents()"
   ]
  },
  {
   "cell_type": "markdown",
   "metadata": {},
   "source": [
    "### Clean up testpoints to usable data"
   ]
  },
  {
   "cell_type": "code",
   "execution_count": 308,
   "metadata": {},
   "outputs": [],
   "source": [
    "def test_points_cleanup():\n",
    "    with open(\"../Data/testpoints.txt\", \"r\") as f_test_points:\n",
    "        test_points_to_check =  f_test_points.readlines()\n",
    "\n",
    "    #Remove first item from list with is just a description\n",
    "    test_points_to_check = test_points_to_check[1:]\n",
    "    \n",
    "    #clean up list to remove brackets and commas\n",
    "    test_points_to_check = [line[4:-2] for line in test_points_to_check]\n",
    "\n",
    "    #split item in list using comma\n",
    "    test_points_to_check = [line.split(\",\") for line in test_points_to_check]\n",
    "\n",
    "    #Convert each item list in test_points_to_check list to float\n",
    "    test_points_to_check = [[float(a) for a in b] for b in test_points_to_check]\n",
    "    return test_points_to_check"
   ]
  },
  {
   "cell_type": "markdown",
   "metadata": {},
   "source": [
    "### Create algorithm to return a pichu or pikachu"
   ]
  },
  {
   "cell_type": "code",
   "execution_count": 64,
   "metadata": {},
   "outputs": [],
   "source": [
    "from turtle import color\n",
    "import matplotlib.pyplot as plt\n",
    "import numpy as np\n",
    "import ast\n",
    "import math\n",
    "\n",
    "def pichu_or_pikachu(data = []):\n",
    "    \n",
    "    pichu_height_list = []\n",
    "    pichu_width_list = []\n",
    "    pikachu_height_list = []\n",
    "    pikachu_width_list = []\n",
    "\n",
    "    result = \"\"\n",
    "\n",
    "    with open(\"../Data/pichu.txt\", \"r\") as f_pichu_list:\n",
    "        pichu_data_list = [ast.literal_eval(pichu) for pichu in f_pichu_list.readlines()]\n",
    "    \n",
    "    #create a seperate pichu/pikachu height and width list\n",
    "    for item in pichu_data_list:\n",
    "        pichu_height_list.append(float(item[0]))\n",
    "        pichu_width_list.append(float(item[1]))\n",
    "\n",
    "    with open(\"../Data/pikachu.txt\", \"r\") as f_pikachu_list:\n",
    "        pikachu_data_list = [ast.literal_eval(pika) for pika in f_pikachu_list.readlines()]\n",
    "\n",
    "    for item in pikachu_data_list:\n",
    "        pikachu_height_list.append(float(item[0]))\n",
    "        pikachu_width_list.append(float(item[1]))\n",
    "\n",
    "    diffrence = []\n",
    "    pika_points_distance_list = []\n",
    "    pichu_points_distance_list = []\n",
    "    pichu_sample_list = []\n",
    "    pika_sample_list = []\n",
    "\n",
    "    #Calculate the closest distance to each point in the pikachu/pichu lists from the sample list we have\n",
    "    #use numpy to calculate the square root of the minimum distance between points\n",
    "    for sample in data:\n",
    "        min_distance = min((sample[0] - float(point[0]))**2 +(sample[1] - float(point[1]))**2 for point in pikachu_data_list)\n",
    "        pika_points_distance_list.append(np.sqrt(min_distance))\n",
    "\n",
    "    \n",
    "    for sample in data:\n",
    "        min_distance = min((sample[0] - float(point[0]))**2 +(sample[1] - float(point[1]))**2 for point in pichu_data_list)\n",
    "        pichu_points_distance_list.append(np.sqrt(min_distance))\n",
    "\n",
    "\n",
    "    #For item in the pichu distance list zip to thesame item in the pika points list so that they are tied to thesame index\n",
    "    a = [x1 - x2 for (x1, x2) in zip(pichu_points_distance_list, pika_points_distance_list)]\n",
    "    zip_obj = zip(pichu_points_distance_list, pika_points_distance_list)\n",
    "\n",
    "    #compare the distance of the sample point to the respective  pichu or pikachu points and take the min for either pichu or pikachu\n",
    "    for i in range(len(data)):\n",
    "        for pichu, pika in zip_obj:\n",
    "            if pichu - pika < 0 :\n",
    "                pichu_sample_list.append(data[i])\n",
    "                result = f\"classified as Pichu\"\n",
    "                break\n",
    "            else:\n",
    "                pika_sample_list.append(data[i])\n",
    "                result = f\"classified as Pikachu\"\n",
    "                break\n",
    "        diffrence.append([data[i], pichu - pika, result])\n",
    "\n",
    "    print(*diffrence, sep=\"\\n\")\n",
    "\n",
    "    \n",
    "    pika_sample_height = [i[0] for i in pika_sample_list]\n",
    "    pika_sample_width = [i[1] for i in pika_sample_list]\n",
    "    pichu_sample_height = [i[0] for i in pichu_sample_list]\n",
    "    pichu_sample_width = [i[1] for i in pichu_sample_list]\n",
    "\n",
    "\n",
    "    plt.plot(pichu_sample_height, pichu_sample_width, \"o\", label=\"Pichu Sample\")\n",
    "    plt.plot(pichu_height_list, pichu_width_list, \"1\")\n",
    "    plt.plot(pikachu_height_list, pikachu_width_list, \"2\")\n",
    "    plt.plot(pika_sample_height, pika_sample_width, \"*\")\n",
    "    plt.title(f\"You entry is a: {result}\")\n",
    "    plt.xlabel(\"Width\")\n",
    "    plt.ylabel(\"Height\")   \n",
    "    plt.legend([\"Pichu Test\", \"Pichu Actual\", \"Pikachu Actual\", \"Pika Test\"])\n",
    " \n",
    "    "
   ]
  },
  {
   "cell_type": "code",
   "execution_count": 65,
   "metadata": {},
   "outputs": [
    {
     "name": "stdout",
     "output_type": "stream",
     "text": [
      "[[32.0, 12.0], -0.6093767825405969, 'classified as Pichu']\n"
     ]
    },
    {
     "data": {
      "image/png": "[encoded data removed]",
      "text/plain": [
       "<Figure size 640x480 with 1 Axes>"
      ]
     },
     "metadata": {},
     "output_type": "display_data"
    }
   ],
   "source": [
    "#Take user input and add to graph\n",
    "\n",
    "#sample_list = test_points_cleanup()\n",
    "user_input = user_points(\"Input points\")\n",
    "pichu_or_pikachu(user_input)\n"
   ]
  },
  {
   "cell_type": "markdown",
   "metadata": {},
   "source": [
    "### Votes for a point with little margin to pichu or pikachu"
   ]
  },
  {
   "cell_type": "code",
   "execution_count": 69,
   "metadata": {},
   "outputs": [
    {
     "data": {
      "text/plain": [
       "'Points with height: 23.0 and width: 43.0 is classified as a pikachu with 10 votes'"
      ]
     },
     "execution_count": 69,
     "metadata": {},
     "output_type": "execute_result"
    }
   ],
   "source": [
    "from operator import itemgetter\n",
    "def election_day():\n",
    "    with open(\"../Data/datapoints.txt\", \"r\") as f_data:\n",
    "        points = [point.strip(\"\\n\") for point in f_data.readlines()]\n",
    "        points.pop(0)\n",
    "        points = [data.split(\",\") for data in points]\n",
    "\n",
    "    user_input = user_points(\"Input your coordinates\")\n",
    "    distance_points_list = []\n",
    "    pichu_votes = 0\n",
    "    pikachu_votes = 0\n",
    "    for item in points:\n",
    "        distance = math.sqrt(((user_input[0][0]) - float(item[0]))**2 + ((user_input[0][1]) - float(item[1]))**2)\n",
    "        distance_points_list.append([distance, item[2]])\n",
    "\n",
    "    distance_points_list = sorted(distance_points_list, key=itemgetter(0))\n",
    "    distance_points_list = distance_points_list[:10]\n",
    "\n",
    "    winner = \"\"\n",
    "    for item in distance_points_list:\n",
    "        if float(item[1]) == 1:\n",
    "            pikachu_votes += 1\n",
    "            winner = f\"Points with height: {user_input[0][0]} and width: {user_input[0][1]} is classified as a pikachu with {pikachu_votes} votes\"\n",
    "        else:\n",
    "            pichu_votes += 1\n",
    "            winner = f\"Points with height: {user_input[0][0]} and width: {user_input[0][1]} is classified as {pichu_votes} votes\"\n",
    "    return winner\n",
    "\n",
    "election_day()"
   ]
  },
  {
   "cell_type": "markdown",
   "metadata": {},
   "source": [
    "#### VG part"
   ]
  },
  {
   "cell_type": "code",
   "execution_count": 339,
   "metadata": {},
   "outputs": [],
   "source": [
    "from re import I\n",
    "import numpy as np\n",
    "import random\n",
    "\n",
    "def random_data():\n",
    "    with open(\"../Data/datapoints.txt\", \"r\") as f_data:\n",
    "        points = [point.strip(\"\\n\") for point in f_data.readlines()]\n",
    "        points.pop(0)\n",
    "        points = [data.split(\",\") for data in points]\n",
    "\n",
    "\n",
    "    #filter list to sort pichu or pikachu points using lambda function by cheching if the item in every sublist is 0 or 1\n",
    "    pichu_sorted_list = list(filter(lambda x: float(x[-1]) == 0, points))\n",
    "    pikachu_sorted_list = list(filter(lambda x: float(x[-1]) == 1, points))\n",
    "\n",
    "    #shuffle the lists inorder to always pick different items for every sublist as below\n",
    "    random.shuffle(pichu_sorted_list)\n",
    "    random.shuffle(pikachu_sorted_list)\n",
    "\n",
    "\n",
    "    pichu_50 = pichu_sorted_list[:50]\n",
    "    pichu_25 = pichu_sorted_list[-25:]\n",
    "\n",
    "    pikachu_50 = pikachu_sorted_list[:50]\n",
    "    pikachu_25 = pikachu_sorted_list[-25:]\n",
    "\n",
    "    pichu_50.extend(pikachu_50)\n",
    "    pichu_25.extend(pikachu_25)\n",
    "    \n",
    "    #convert every item in the extended pichu list to a float\n",
    "    test_data = [[float(a) for a in b] for b in pichu_25]\n",
    "\n",
    "    return ([pichu_50, pikachu_50, test_data])\n"
   ]
  },
  {
   "cell_type": "code",
   "execution_count": 340,
   "metadata": {},
   "outputs": [],
   "source": [
    "import math\n",
    "import numpy as np\n",
    "\n",
    "data = random_data()\n",
    "pichu_50 = data[0]\n",
    "pikachu_50 = data[1]\n",
    "test_data = data[2]\n",
    "pichu_distance = []\n",
    "pikachu_distance = []\n",
    "min_dist = []\n",
    "difference = []\n",
    "\n",
    "def closest():\n",
    "    tp = 0\n",
    "    tn = 0\n",
    "    fp = 0\n",
    "    fn = 0\n",
    "    for test in test_data:\n",
    "        min_distance = min((float(test[0]) - float(point[0]))**2 + (float(test[1]) - float(point[1]))**2 for point in pichu_50)\n",
    "        pichu_distance.append(np.sqrt(min_distance))\n",
    "    \n",
    "    for test in test_data:\n",
    "        min_distance = min((float(test[0]) - float(point[0]))**2 + (float(test[1]) - float(point[1]))**2 for point in pikachu_50)\n",
    "        pikachu_distance.append(np.sqrt(min_distance))\n",
    "\n",
    "    a = [x1 - x2 for (x1, x2) in zip(pichu_distance, pikachu_distance)]\n",
    "    zip_object = zip(pichu_distance, pikachu_distance)\n",
    "\n",
    "    for i in range(len(test_data)):\n",
    "        for pichu, pika in zip_object:\n",
    "            if pichu - pika < 0:\n",
    "                result = f\"pichu\"\n",
    "                if test_data[2] == 0.0:\n",
    "                    fp+=0\n",
    "                else:\n",
    "                    fn+=0\n",
    "                break\n",
    "\n",
    "            else:\n",
    "                result = f\"pikachu\"\n",
    "                if test_data[2] == 1.0:\n",
    "                    tp+=0\n",
    "                else:\n",
    "                    tn+=0\n",
    "                break\n",
    "        difference.append([test_data[i][2], result])\n",
    "    \n",
    "    for d in difference:\n",
    "        if (str(d[0]) + d[1] == \"0.0pichu\"):\n",
    "            tn +=1\n",
    "        elif (str(d[0]) + d[1] == \"0.0pikachu\"):\n",
    "            fp += 1\n",
    "        elif (str(d[0]) + d[1] == \"1.0pikachu\"):\n",
    "            tp +=1\n",
    "        elif (str(d[0]) + d[1] == \"1.0pichu\"):\n",
    "            fn +=1\n",
    "    #print(fp)\n",
    "    #print(tp, tn, fp, fn)\n",
    "    #print(*difference, sep=\"\\n\")\n",
    "    return ([tp, tn, fp, fn])\n",
    "\n",
    "\n"
   ]
  },
  {
   "cell_type": "code",
   "execution_count": 341,
   "metadata": {},
   "outputs": [
    {
     "data": {
      "image/png": "[encoded data removed]",
      "text/plain": [
       "<Figure size 640x480 with 1 Axes>"
      ]
     },
     "metadata": {},
     "output_type": "display_data"
    }
   ],
   "source": [
    "from statistics import mean\n",
    "from turtle import width\n",
    "import matplotlib.pyplot as plt\n",
    "import numpy as np\n",
    "def accuracy():\n",
    "    accuracy_list = []\n",
    "    accuracy_points = []\n",
    "\n",
    "    for i in range(10):\n",
    "        #accuracy_cal = (tp + tn )/(tp + tn + fp + fn)\n",
    "        closest()\n",
    "        get_accuracy = closest()\n",
    "        accuracy_list.append(get_accuracy)\n",
    "        for i in range(len(accuracy_list)):\n",
    "            #calculate accuracy by taking the first two items in our list and dividing the sum of the items in the list\n",
    "             accuracy_cal = ( sum(accuracy_list[i][:2]))/(sum(accuracy_list[i]))\n",
    "        accuracy_points.append(accuracy_cal)\n",
    "    \n",
    "    mean_value = np.mean(accuracy_points)\n",
    "\n",
    "    plt.plot(accuracy_points, range(10), color=\"black\")\n",
    "    plt.axvline(mean_value, color=\"red\")\n",
    "    plt.ylabel(\"Frequency\")\n",
    "    plt.xlabel(\"Accuracy\")\n",
    "    plt.title(\"Algorythm accuracy\")\n",
    "    plt.show()\n",
    "    \n",
    "accuracy()"
   ]
  },
  {
   "cell_type": "code",
   "execution_count": null,
   "metadata": {},
   "outputs": [],
   "source": []
  }
 ],
 "metadata": {
  "kernelspec": {
   "display_name": "Python 3.9.13 ('python-programming-CYRILLE-NGIDE-8lYZxi0s')",
   "language": "python",
   "name": "python3"
  },
  "language_info": {
   "codemirror_mode": {
    "name": "ipython",
    "version": 3
   },
   "file_extension": ".py",
   "mimetype": "text/x-python",
   "name": "python",
   "nbconvert_exporter": "python",
   "pygments_lexer": "ipython3",
   "version": "3.9.13"
  },
  "orig_nbformat": 4,
  "vscode": {
   "interpreter": {
    "hash": "dd247279cb5a2223fd23417ef4ee3ca82dcfbfedfd031578b30353f77bfa8fd6"
   }
  }
 },
 "nbformat": 4,
 "nbformat_minor": 2
}
