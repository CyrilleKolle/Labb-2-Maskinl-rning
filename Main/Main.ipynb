{
 "cells": [
  {
   "cell_type": "code",
   "execution_count": 1,
   "metadata": {},
   "outputs": [
    {
     "data": {
      "text/plain": [
       "[23.0, 21.0]"
      ]
     },
     "execution_count": 1,
     "metadata": {},
     "output_type": "execute_result"
    }
   ],
   "source": [
    "def user_points(prompt):    \n",
    "    try:\n",
    "        user_points = (input(prompt))\n",
    "        user_points = [float(i) for i in user_points.split()]\n",
    "        for user in user_points:\n",
    "            if user < 0: \n",
    "                    raise ValueError(\"value must be greater than 0\")\n",
    "    except ValueError as err:\n",
    "        print(err)\n",
    "    return user_points\n",
    "user_points(\"Input your coordinates\")"
   ]
  }
 ],
 "metadata": {
  "kernelspec": {
   "display_name": "Python 3.9.13 ('python-programming-CYRILLE-NGIDE-8lYZxi0s')",
   "language": "python",
   "name": "python3"
  },
  "language_info": {
   "codemirror_mode": {
    "name": "ipython",
    "version": 3
   },
   "file_extension": ".py",
   "mimetype": "text/x-python",
   "name": "python",
   "nbconvert_exporter": "python",
   "pygments_lexer": "ipython3",
   "version": "3.9.13"
  },
  "orig_nbformat": 4,
  "vscode": {
   "interpreter": {
    "hash": "dd247279cb5a2223fd23417ef4ee3ca82dcfbfedfd031578b30353f77bfa8fd6"
   }
  }
 },
 "nbformat": 4,
 "nbformat_minor": 2
}
